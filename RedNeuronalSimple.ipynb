{
 "cells": [
  {
   "cell_type": "code",
   "execution_count": 340,
   "id": "6f1f5162",
   "metadata": {},
   "outputs": [],
   "source": [
    "from sklearn.model_selection import train_test_split\n",
    "import pandas as pd\n",
    "import numpy as np\n",
    "np.random.seed(1)\n",
    "tf.random.set_seed(1)"
   ]
  },
  {
   "cell_type": "code",
   "execution_count": 341,
   "id": "013b16d8",
   "metadata": {},
   "outputs": [],
   "source": [
    "df =  pd.read_excel(\"DoeEIATTT.xlsx\")"
   ]
  },
  {
   "cell_type": "code",
   "execution_count": 342,
   "id": "db30027c",
   "metadata": {},
   "outputs": [
    {
     "name": "stdout",
     "output_type": "stream",
     "text": [
      "    C_CTAB  C_HAuCl4*3H2O  V_HAuCl4*3H2O  C_AgNO3  V_AgNO3  C_HCl  V_HCl   \n",
      "0       50            100             50    100.0      120    1.2      5  \\\n",
      "1       50            100             50    100.0      120    1.2     10   \n",
      "2      100              1            100      0.6      100    1.0    300   \n",
      "3       50             25             50     10.0      100    6.0     30   \n",
      "4       50             25             50     10.0      100    6.0     30   \n",
      "5       50             25            100     10.0       50    6.0     30   \n",
      "6       50             25            150     10.0       50    6.0     30   \n",
      "7       50             25            200     10.0       50    6.0     30   \n",
      "8       50             25            100     10.0       50    6.0     30   \n",
      "9       50             50            100     20.0       50    6.0     30   \n",
      "10      50             50            100     20.0       50    6.0     30   \n",
      "11      50             50            100     20.0       50    6.0     30   \n",
      "12      50             50            100     20.0       50    6.0     30   \n",
      "13      50             50            100     20.0       50    6.0     30   \n",
      "14      50             50            100     20.0       50    6.0     30   \n",
      "15      50             50            100     20.0       50    6.0     30   \n",
      "16      50             50            100     20.0       50    6.0     30   \n",
      "17      50             50            100     20.0       50    6.0     30   \n",
      "18      50             50            100     20.0       25    6.0     30   \n",
      "19      50             50            100     20.0       75    6.0     30   \n",
      "20      50             50            100     20.0      100    6.0     30   \n",
      "21      50             50            100     20.0      125    6.0     30   \n",
      "22      50             50            100     20.0      125    6.0     30   \n",
      "23      50             50            100     20.0      150    6.0     30   \n",
      "24      50             50            100     20.0      175    6.0     30   \n",
      "25      50             50             50     20.0      125    6.0     30   \n",
      "26      50             50            100     20.0      125    6.0     30   \n",
      "27      50             50            100     20.0      125    6.0     30   \n",
      "28      50             50            100     20.0      125    6.0     30   \n",
      "29      50             50            100     20.0      125    6.0     30   \n",
      "30      50             50            100     20.0      125    6.0     30   \n",
      "31      50             50            100     20.0      125    6.0     60   \n",
      "32      50             50            100     20.0      125    6.0     90   \n",
      "\n",
      "    D_Extracto  V_Extracto  C_NaBH4  ...  (Au/Hcl)   Au/extracto    Au/NaBH   \n",
      "0           20         800       10  ...  0.833333  3.125000e-07   6.250000  \\\n",
      "1           20         800       10  ...  0.416667  3.125000e-07   6.250000   \n",
      "2           20         800       10  ...  0.000333  6.250000e-09   0.083333   \n",
      "3           20         800       10  ...  0.006944  7.812500e-08   0.625000   \n",
      "4           20         800       10  ...  0.006944  7.812500e-08   0.416667   \n",
      "5           20         800       10  ...  0.013889  1.562500e-07   5.000000   \n",
      "6           20         800       10  ...  0.020833  2.343750e-07   7.500000   \n",
      "7           20         800       10  ...  0.027778  3.125000e-07  10.000000   \n",
      "8           20         800       10  ...  0.013889  1.562500e-07   5.000000   \n",
      "9           20         800       10  ...  0.027778  3.125000e-07  10.000000   \n",
      "10          20         800       10  ...  0.027778  3.125000e-07  20.000000   \n",
      "11          20         800       10  ...  0.027778  3.125000e-07   6.666667   \n",
      "12          20         800       10  ...  0.027778  3.125000e-07   5.000000   \n",
      "13          40         800       10  ...  0.027778  1.562500e-07  20.000000   \n",
      "14          60         800       10  ...  0.027778  1.041667e-07  20.000000   \n",
      "15          80         800       10  ...  0.027778  7.812500e-08  20.000000   \n",
      "16          20         800       20  ...  0.027778  3.125000e-07  10.000000   \n",
      "17          20        1000       20  ...  0.027778  2.500000e-07  10.000000   \n",
      "18          20        1000       20  ...  0.027778  2.500000e-07  10.000000   \n",
      "19          20        1000       20  ...  0.027778  2.500000e-07  10.000000   \n",
      "20          20        1000       20  ...  0.027778  2.500000e-07  10.000000   \n",
      "21          20        1000       20  ...  0.027778  2.500000e-07  10.000000   \n",
      "22          20        1000       20  ...  0.027778  2.500000e-07  10.000000   \n",
      "23          20        1000       20  ...  0.027778  2.500000e-07  10.000000   \n",
      "24          20        1000       20  ...  0.027778  2.500000e-07  10.000000   \n",
      "25          20        1000       20  ...  0.013889  1.250000e-07   5.000000   \n",
      "26          20        1000       20  ...  0.027778  2.500000e-07  10.000000   \n",
      "27          20        1000       20  ...  0.027778  2.500000e-07   5.000000   \n",
      "28          20        1000       20  ...  0.027778  2.500000e-07   3.333333   \n",
      "29          20         800       10  ...  0.027778  3.125000e-07  33.333333   \n",
      "30          20         800       10  ...  0.027778  3.125000e-07  20.000000   \n",
      "31          20         800       10  ...  0.013889  3.125000e-07  20.000000   \n",
      "32          20         800       10  ...  0.009259  3.125000e-07  20.000000   \n",
      "\n",
      "      (Au/Hcl)^2  Au/extracto)^2    Au/NaBH^2    (Au/Hcl)^3  Au/extracto)^3   \n",
      "0   6.944444e-01    9.765625e-14    39.062500  5.787037e-01    3.051758e-20  \\\n",
      "1   1.736111e-01    9.765625e-14    39.062500  7.233796e-02    3.051758e-20   \n",
      "2   1.111111e-07    3.906250e-17     0.006944  3.703704e-11    2.441406e-25   \n",
      "3   4.822531e-05    6.103516e-15     0.390625  3.348980e-07    4.768372e-22   \n",
      "4   4.822531e-05    6.103516e-15     0.173611  3.348980e-07    4.768372e-22   \n",
      "5   1.929012e-04    2.441406e-14    25.000000  2.679184e-06    3.814697e-21   \n",
      "6   4.340278e-04    5.493164e-14    56.250000  9.042245e-06    1.287460e-20   \n",
      "7   7.716049e-04    9.765625e-14   100.000000  2.143347e-05    3.051758e-20   \n",
      "8   1.929012e-04    2.441406e-14    25.000000  2.679184e-06    3.814697e-21   \n",
      "9   7.716049e-04    9.765625e-14   100.000000  2.143347e-05    3.051758e-20   \n",
      "10  7.716049e-04    9.765625e-14   400.000000  2.143347e-05    3.051758e-20   \n",
      "11  7.716049e-04    9.765625e-14    44.444444  2.143347e-05    3.051758e-20   \n",
      "12  7.716049e-04    9.765625e-14    25.000000  2.143347e-05    3.051758e-20   \n",
      "13  7.716049e-04    2.441406e-14   400.000000  2.143347e-05    3.814697e-21   \n",
      "14  7.716049e-04    1.085069e-14   400.000000  2.143347e-05    1.130281e-21   \n",
      "15  7.716049e-04    6.103516e-15   400.000000  2.143347e-05    4.768372e-22   \n",
      "16  7.716049e-04    9.765625e-14   100.000000  2.143347e-05    3.051758e-20   \n",
      "17  7.716049e-04    6.250000e-14   100.000000  2.143347e-05    1.562500e-20   \n",
      "18  7.716049e-04    6.250000e-14   100.000000  2.143347e-05    1.562500e-20   \n",
      "19  7.716049e-04    6.250000e-14   100.000000  2.143347e-05    1.562500e-20   \n",
      "20  7.716049e-04    6.250000e-14   100.000000  2.143347e-05    1.562500e-20   \n",
      "21  7.716049e-04    6.250000e-14   100.000000  2.143347e-05    1.562500e-20   \n",
      "22  7.716049e-04    6.250000e-14   100.000000  2.143347e-05    1.562500e-20   \n",
      "23  7.716049e-04    6.250000e-14   100.000000  2.143347e-05    1.562500e-20   \n",
      "24  7.716049e-04    6.250000e-14   100.000000  2.143347e-05    1.562500e-20   \n",
      "25  1.929012e-04    1.562500e-14    25.000000  2.679184e-06    1.953125e-21   \n",
      "26  7.716049e-04    6.250000e-14   100.000000  2.143347e-05    1.562500e-20   \n",
      "27  7.716049e-04    6.250000e-14    25.000000  2.143347e-05    1.562500e-20   \n",
      "28  7.716049e-04    6.250000e-14    11.111111  2.143347e-05    1.562500e-20   \n",
      "29  7.716049e-04    9.765625e-14  1111.111111  2.143347e-05    3.051758e-20   \n",
      "30  7.716049e-04    9.765625e-14   400.000000  2.143347e-05    3.051758e-20   \n",
      "31  1.929012e-04    9.765625e-14   400.000000  2.679184e-06    3.051758e-20   \n",
      "32  8.573388e-05    9.765625e-14   400.000000  7.938322e-07    3.051758e-20   \n",
      "\n",
      "       Au/NaBH^3  log(Au/Ag)  \n",
      "0     244.140625    0.380211  \n",
      "1     244.140625    0.380211  \n",
      "2       0.000579   -0.221849  \n",
      "3       0.244141   -0.096910  \n",
      "4       0.072338   -0.096910  \n",
      "5     125.000000   -0.698970  \n",
      "6     421.875000   -0.875061  \n",
      "7    1000.000000   -1.000000  \n",
      "8     125.000000   -0.698970  \n",
      "9    1000.000000   -0.698970  \n",
      "10   8000.000000   -0.698970  \n",
      "11    296.296296   -0.698970  \n",
      "12    125.000000   -0.698970  \n",
      "13   8000.000000   -0.698970  \n",
      "14   8000.000000   -0.698970  \n",
      "15   8000.000000   -0.698970  \n",
      "16   1000.000000   -0.698970  \n",
      "17   1000.000000   -0.698970  \n",
      "18   1000.000000   -1.000000  \n",
      "19   1000.000000   -0.522879  \n",
      "20   1000.000000   -0.397940  \n",
      "21   1000.000000   -0.301030  \n",
      "22   1000.000000   -0.301030  \n",
      "23   1000.000000   -0.221849  \n",
      "24   1000.000000   -0.154902  \n",
      "25    125.000000    0.000000  \n",
      "26   1000.000000   -0.301030  \n",
      "27    125.000000   -0.301030  \n",
      "28     37.037037   -0.301030  \n",
      "29  37037.037037   -0.301030  \n",
      "30   8000.000000   -0.301030  \n",
      "31   8000.000000   -0.301030  \n",
      "32   8000.000000   -0.301030  \n",
      "\n",
      "[33 rows x 29 columns]\n"
     ]
    }
   ],
   "source": [
    "print(df)"
   ]
  },
  {
   "cell_type": "code",
   "execution_count": 343,
   "id": "65a32b2c",
   "metadata": {},
   "outputs": [],
   "source": [
    "X = df[[\"V_NaBH4\"]].values\n",
    "y = df['LSPR'].values"
   ]
  },
  {
   "cell_type": "code",
   "execution_count": 344,
   "id": "03e46e05",
   "metadata": {},
   "outputs": [],
   "source": [
    "# Dividir los datos en conjuntos de entrenamiento y prueba\n",
    "X_train, X_test, y_train, y_test = train_test_split(X, y, test_size= 0.2, random_state = 1)"
   ]
  },
  {
   "cell_type": "code",
   "execution_count": 345,
   "id": "fbd3eae4",
   "metadata": {},
   "outputs": [],
   "source": [
    "# Dividir los datos de entrenamiento en conjuntos de entrenamiento y validación\n",
    "X_train, X_val, y_train, y_val = train_test_split(X_train, y_train, test_size=0.2, random_state = 1)"
   ]
  },
  {
   "cell_type": "code",
   "execution_count": 346,
   "id": "259b448d",
   "metadata": {},
   "outputs": [],
   "source": [
    "\n",
    "import keras\n",
    "import keras.backend as kb\n",
    "import tensorflow as tf\n",
    "\n",
    "model = keras.Sequential([\n",
    "    keras.layers.Dense(20, activation = tf.nn.relu,  kernel_initializer=keras.initializers.RandomUniform(seed=1)),\n",
    "    keras.layers.Dense(20, activation = tf.nn.relu,  kernel_initializer=keras.initializers.RandomUniform(seed=1)),\n",
    "    keras.layers.Dense(20, activation = tf.nn.relu,  kernel_initializer=keras.initializers.RandomUniform(seed=1)),\n",
    "    keras.layers.Dense(1,  kernel_initializer=keras.initializers.RandomUniform(seed=1))\n",
    "])\n",
    "\n",
    "optimizer = tf.keras.optimizers.RMSprop(learning_rate=0.01)\n",
    "\n",
    "model.compile(loss = \"mean_squared_error\",\n",
    "              optimizer = optimizer,\n",
    "              metrics = [\"mean_absolute_error\", \"mean_squared_error\"]\n",
    ")"
   ]
  },
  {
   "cell_type": "code",
   "execution_count": 347,
   "id": "4397f971",
   "metadata": {},
   "outputs": [
    {
     "name": "stdout",
     "output_type": "stream",
     "text": [
      "Epoch 1/100\n",
      "10/10 [==============================] - 2s 33ms/step - loss: 516285.1562 - mean_absolute_error: 716.1146 - mean_squared_error: 516285.1562 - val_loss: 464148.9062 - val_mean_absolute_error: 679.1722 - val_mean_squared_error: 464148.9062\n",
      "Epoch 2/100\n",
      "10/10 [==============================] - 0s 6ms/step - loss: 404318.0312 - mean_absolute_error: 617.8458 - mean_squared_error: 404318.0312 - val_loss: 283591.1250 - val_mean_absolute_error: 514.9258 - val_mean_squared_error: 283591.1250\n",
      "Epoch 3/100\n",
      "10/10 [==============================] - 0s 6ms/step - loss: 369419.6562 - mean_absolute_error: 519.0485 - mean_squared_error: 369419.6562 - val_loss: 211149.7500 - val_mean_absolute_error: 420.3448 - val_mean_squared_error: 211149.7500\n",
      "Epoch 4/100\n",
      "10/10 [==============================] - 0s 6ms/step - loss: 314035.4062 - mean_absolute_error: 493.7053 - mean_squared_error: 314035.4062 - val_loss: 216187.9531 - val_mean_absolute_error: 428.6164 - val_mean_squared_error: 216187.9531\n",
      "Epoch 5/100\n",
      "10/10 [==============================] - 0s 6ms/step - loss: 305263.0938 - mean_absolute_error: 501.4779 - mean_squared_error: 305263.0938 - val_loss: 211804.0156 - val_mean_absolute_error: 422.4672 - val_mean_squared_error: 211804.0156\n",
      "Epoch 6/100\n",
      "10/10 [==============================] - 0s 6ms/step - loss: 308293.6562 - mean_absolute_error: 502.1513 - mean_squared_error: 308293.6562 - val_loss: 209108.4375 - val_mean_absolute_error: 418.8307 - val_mean_squared_error: 209108.4375\n",
      "Epoch 7/100\n",
      "10/10 [==============================] - 0s 6ms/step - loss: 317645.4375 - mean_absolute_error: 493.0453 - mean_squared_error: 317645.4375 - val_loss: 211750.9375 - val_mean_absolute_error: 423.4282 - val_mean_squared_error: 211750.9375\n",
      "Epoch 8/100\n",
      "10/10 [==============================] - 0s 6ms/step - loss: 332474.4688 - mean_absolute_error: 485.2276 - mean_squared_error: 332474.4688 - val_loss: 212979.0000 - val_mean_absolute_error: 425.7488 - val_mean_squared_error: 212979.0000\n",
      "Epoch 9/100\n",
      "10/10 [==============================] - 0s 6ms/step - loss: 298526.6875 - mean_absolute_error: 489.2872 - mean_squared_error: 298526.6875 - val_loss: 213590.2969 - val_mean_absolute_error: 427.1056 - val_mean_squared_error: 213590.2969\n",
      "Epoch 10/100\n",
      "10/10 [==============================] - 0s 6ms/step - loss: 297427.8125 - mean_absolute_error: 494.4019 - mean_squared_error: 297427.8125 - val_loss: 209059.7500 - val_mean_absolute_error: 420.7190 - val_mean_squared_error: 209059.7500\n",
      "Epoch 11/100\n",
      "10/10 [==============================] - 0s 6ms/step - loss: 316813.5625 - mean_absolute_error: 482.8450 - mean_squared_error: 316813.5625 - val_loss: 213191.9375 - val_mean_absolute_error: 427.4065 - val_mean_squared_error: 213191.9375\n",
      "Epoch 12/100\n",
      "10/10 [==============================] - 0s 6ms/step - loss: 304246.0000 - mean_absolute_error: 483.0836 - mean_squared_error: 304246.0000 - val_loss: 218633.3750 - val_mean_absolute_error: 435.8008 - val_mean_squared_error: 218633.3750\n",
      "Epoch 13/100\n",
      "10/10 [==============================] - 0s 6ms/step - loss: 290050.4688 - mean_absolute_error: 493.8735 - mean_squared_error: 290050.4688 - val_loss: 209878.0000 - val_mean_absolute_error: 423.4207 - val_mean_squared_error: 209878.0000\n",
      "Epoch 14/100\n",
      "10/10 [==============================] - 0s 5ms/step - loss: 297290.4062 - mean_absolute_error: 489.1972 - mean_squared_error: 297290.4062 - val_loss: 207142.6250 - val_mean_absolute_error: 419.7936 - val_mean_squared_error: 207142.6250\n",
      "Epoch 15/100\n",
      "10/10 [==============================] - 0s 6ms/step - loss: 303395.5312 - mean_absolute_error: 483.7932 - mean_squared_error: 303395.5312 - val_loss: 209186.7344 - val_mean_absolute_error: 423.3354 - val_mean_squared_error: 209186.7344\n",
      "Epoch 16/100\n",
      "10/10 [==============================] - 0s 6ms/step - loss: 305412.2188 - mean_absolute_error: 475.7382 - mean_squared_error: 305412.2188 - val_loss: 211926.3906 - val_mean_absolute_error: 427.8287 - val_mean_squared_error: 211926.3906\n",
      "Epoch 17/100\n",
      "10/10 [==============================] - 0s 6ms/step - loss: 292603.5625 - mean_absolute_error: 485.0688 - mean_squared_error: 292603.5625 - val_loss: 211227.4219 - val_mean_absolute_error: 427.2543 - val_mean_squared_error: 211227.4219\n",
      "Epoch 18/100\n",
      "10/10 [==============================] - 0s 6ms/step - loss: 289906.1562 - mean_absolute_error: 484.0686 - mean_squared_error: 289906.1562 - val_loss: 208198.8125 - val_mean_absolute_error: 423.2365 - val_mean_squared_error: 208198.8125\n",
      "Epoch 19/100\n",
      "10/10 [==============================] - 0s 6ms/step - loss: 289163.1875 - mean_absolute_error: 488.2825 - mean_squared_error: 289163.1875 - val_loss: 202101.9219 - val_mean_absolute_error: 414.5634 - val_mean_squared_error: 202101.9219\n",
      "Epoch 20/100\n",
      "10/10 [==============================] - 0s 6ms/step - loss: 297198.4688 - mean_absolute_error: 479.3099 - mean_squared_error: 297198.4688 - val_loss: 201043.6094 - val_mean_absolute_error: 413.4666 - val_mean_squared_error: 201043.6094\n",
      "Epoch 21/100\n",
      "10/10 [==============================] - 0s 6ms/step - loss: 284798.2500 - mean_absolute_error: 487.1656 - mean_squared_error: 284798.2500 - val_loss: 193398.4531 - val_mean_absolute_error: 402.0614 - val_mean_squared_error: 193398.4531\n",
      "Epoch 22/100\n",
      "10/10 [==============================] - 0s 6ms/step - loss: 285972.9688 - mean_absolute_error: 480.1482 - mean_squared_error: 285972.9688 - val_loss: 187669.0469 - val_mean_absolute_error: 393.3158 - val_mean_squared_error: 187669.0469\n",
      "Epoch 23/100\n",
      "10/10 [==============================] - 0s 6ms/step - loss: 293189.2500 - mean_absolute_error: 477.3659 - mean_squared_error: 293189.2500 - val_loss: 187426.8750 - val_mean_absolute_error: 393.5376 - val_mean_squared_error: 187426.8750\n",
      "Epoch 24/100\n",
      "10/10 [==============================] - 0s 6ms/step - loss: 318701.7500 - mean_absolute_error: 458.3939 - mean_squared_error: 318701.7500 - val_loss: 186840.0000 - val_mean_absolute_error: 393.1343 - val_mean_squared_error: 186840.0000\n",
      "Epoch 25/100\n",
      "10/10 [==============================] - 0s 6ms/step - loss: 277917.4062 - mean_absolute_error: 467.9251 - mean_squared_error: 277917.4062 - val_loss: 186562.6406 - val_mean_absolute_error: 393.2286 - val_mean_squared_error: 186562.6406\n",
      "Epoch 26/100\n",
      "10/10 [==============================] - 0s 6ms/step - loss: 293811.5625 - mean_absolute_error: 452.1663 - mean_squared_error: 293811.5625 - val_loss: 193332.0156 - val_mean_absolute_error: 404.6151 - val_mean_squared_error: 193332.0156\n",
      "Epoch 27/100\n",
      "10/10 [==============================] - 0s 6ms/step - loss: 281458.5312 - mean_absolute_error: 460.0076 - mean_squared_error: 281458.5312 - val_loss: 198388.3281 - val_mean_absolute_error: 412.9098 - val_mean_squared_error: 198388.3281\n",
      "Epoch 28/100\n",
      "10/10 [==============================] - 0s 6ms/step - loss: 276722.0000 - mean_absolute_error: 467.9965 - mean_squared_error: 276722.0000 - val_loss: 198413.9375 - val_mean_absolute_error: 413.4750 - val_mean_squared_error: 198413.9375\n",
      "Epoch 29/100\n",
      "10/10 [==============================] - 0s 6ms/step - loss: 275741.3750 - mean_absolute_error: 471.6446 - mean_squared_error: 275741.3750 - val_loss: 194891.0000 - val_mean_absolute_error: 408.6995 - val_mean_squared_error: 194891.0000\n",
      "Epoch 30/100\n",
      "10/10 [==============================] - 0s 6ms/step - loss: 289413.4062 - mean_absolute_error: 453.5626 - mean_squared_error: 289413.4062 - val_loss: 193109.6250 - val_mean_absolute_error: 406.5316 - val_mean_squared_error: 193109.6250\n",
      "Epoch 31/100\n",
      "10/10 [==============================] - 0s 5ms/step - loss: 266962.3125 - mean_absolute_error: 470.3930 - mean_squared_error: 266962.3125 - val_loss: 185912.1094 - val_mean_absolute_error: 395.8826 - val_mean_squared_error: 185912.1094\n",
      "Epoch 32/100\n",
      "10/10 [==============================] - 0s 6ms/step - loss: 270603.9688 - mean_absolute_error: 467.4873 - mean_squared_error: 270603.9688 - val_loss: 180727.6875 - val_mean_absolute_error: 388.1628 - val_mean_squared_error: 180727.6875\n",
      "Epoch 33/100\n",
      "10/10 [==============================] - 0s 6ms/step - loss: 281048.5625 - mean_absolute_error: 454.4476 - mean_squared_error: 281048.5625 - val_loss: 181625.2031 - val_mean_absolute_error: 390.2882 - val_mean_squared_error: 181625.2031\n"
     ]
    },
    {
     "name": "stdout",
     "output_type": "stream",
     "text": [
      "Epoch 34/100\n",
      "10/10 [==============================] - 0s 5ms/step - loss: 264012.3750 - mean_absolute_error: 463.9312 - mean_squared_error: 264012.3750 - val_loss: 174103.2031 - val_mean_absolute_error: 378.5109 - val_mean_squared_error: 174103.2031\n",
      "Epoch 35/100\n",
      "10/10 [==============================] - 0s 6ms/step - loss: 286321.1250 - mean_absolute_error: 441.9299 - mean_squared_error: 286321.1250 - val_loss: 176272.5469 - val_mean_absolute_error: 382.8104 - val_mean_squared_error: 176272.5469\n",
      "Epoch 36/100\n",
      "10/10 [==============================] - 0s 6ms/step - loss: 268242.5938 - mean_absolute_error: 445.4386 - mean_squared_error: 268242.5938 - val_loss: 181046.9844 - val_mean_absolute_error: 391.2092 - val_mean_squared_error: 181046.9844\n",
      "Epoch 37/100\n",
      "10/10 [==============================] - 0s 5ms/step - loss: 267309.5625 - mean_absolute_error: 440.7979 - mean_squared_error: 267309.5625 - val_loss: 187177.1094 - val_mean_absolute_error: 401.4026 - val_mean_squared_error: 187177.1094\n",
      "Epoch 38/100\n",
      "10/10 [==============================] - 0s 6ms/step - loss: 249416.9531 - mean_absolute_error: 461.1935 - mean_squared_error: 249416.9531 - val_loss: 171179.9531 - val_mean_absolute_error: 376.3994 - val_mean_squared_error: 171179.9531\n",
      "Epoch 39/100\n",
      "10/10 [==============================] - 0s 5ms/step - loss: 264135.2500 - mean_absolute_error: 448.8785 - mean_squared_error: 264135.2500 - val_loss: 170461.9531 - val_mean_absolute_error: 375.9370 - val_mean_squared_error: 170461.9531\n",
      "Epoch 40/100\n",
      "10/10 [==============================] - 0s 6ms/step - loss: 260039.6562 - mean_absolute_error: 447.6790 - mean_squared_error: 260039.6562 - val_loss: 168043.4219 - val_mean_absolute_error: 372.6373 - val_mean_squared_error: 168043.4219\n",
      "Epoch 41/100\n",
      "10/10 [==============================] - 0s 6ms/step - loss: 250546.0781 - mean_absolute_error: 451.1886 - mean_squared_error: 250546.0781 - val_loss: 157605.1250 - val_mean_absolute_error: 355.1207 - val_mean_squared_error: 157605.1250\n",
      "Epoch 42/100\n",
      "10/10 [==============================] - 0s 6ms/step - loss: 254992.9531 - mean_absolute_error: 441.8407 - mean_squared_error: 254992.9531 - val_loss: 155681.6250 - val_mean_absolute_error: 352.5277 - val_mean_squared_error: 155681.6250\n",
      "Epoch 43/100\n",
      "10/10 [==============================] - 0s 6ms/step - loss: 267474.9062 - mean_absolute_error: 429.3923 - mean_squared_error: 267474.9062 - val_loss: 157554.2812 - val_mean_absolute_error: 356.8950 - val_mean_squared_error: 157554.2812\n",
      "Epoch 44/100\n",
      "10/10 [==============================] - 0s 5ms/step - loss: 263729.4375 - mean_absolute_error: 421.8771 - mean_squared_error: 263729.4375 - val_loss: 160828.6719 - val_mean_absolute_error: 363.5674 - val_mean_squared_error: 160828.6719\n",
      "Epoch 45/100\n",
      "10/10 [==============================] - 0s 5ms/step - loss: 252957.5000 - mean_absolute_error: 423.3304 - mean_squared_error: 252957.5000 - val_loss: 169044.2969 - val_mean_absolute_error: 378.1723 - val_mean_squared_error: 169044.2969\n",
      "Epoch 46/100\n",
      "10/10 [==============================] - 0s 6ms/step - loss: 246208.2031 - mean_absolute_error: 421.3295 - mean_squared_error: 246208.2031 - val_loss: 174134.0781 - val_mean_absolute_error: 386.9938 - val_mean_squared_error: 174134.0781\n",
      "Epoch 47/100\n",
      "10/10 [==============================] - 0s 6ms/step - loss: 237187.0938 - mean_absolute_error: 441.2920 - mean_squared_error: 237187.0938 - val_loss: 164359.5312 - val_mean_absolute_error: 371.9830 - val_mean_squared_error: 164359.5312\n",
      "Epoch 48/100\n",
      "10/10 [==============================] - 0s 5ms/step - loss: 243773.6562 - mean_absolute_error: 429.6664 - mean_squared_error: 243773.6562 - val_loss: 163392.4375 - val_mean_absolute_error: 371.2339 - val_mean_squared_error: 163392.4375\n",
      "Epoch 49/100\n",
      "10/10 [==============================] - 0s 6ms/step - loss: 235924.0000 - mean_absolute_error: 437.3505 - mean_squared_error: 235924.0000 - val_loss: 153277.8750 - val_mean_absolute_error: 354.8408 - val_mean_squared_error: 153277.8750\n",
      "Epoch 50/100\n",
      "10/10 [==============================] - 0s 6ms/step - loss: 234359.8281 - mean_absolute_error: 432.2449 - mean_squared_error: 234359.8281 - val_loss: 143787.0781 - val_mean_absolute_error: 338.6165 - val_mean_squared_error: 143787.0781\n",
      "Epoch 51/100\n",
      "10/10 [==============================] - 0s 6ms/step - loss: 261866.1562 - mean_absolute_error: 399.4914 - mean_squared_error: 261866.1562 - val_loss: 140829.2344 - val_mean_absolute_error: 334.1688 - val_mean_squared_error: 140829.2344\n",
      "Epoch 52/100\n",
      "10/10 [==============================] - 0s 6ms/step - loss: 233101.8438 - mean_absolute_error: 411.4177 - mean_squared_error: 233101.8438 - val_loss: 146351.9844 - val_mean_absolute_error: 345.5429 - val_mean_squared_error: 146351.9844\n",
      "Epoch 53/100\n",
      "10/10 [==============================] - 0s 5ms/step - loss: 234354.4688 - mean_absolute_error: 406.4604 - mean_squared_error: 234354.4688 - val_loss: 151275.9219 - val_mean_absolute_error: 355.3000 - val_mean_squared_error: 151275.9219\n",
      "Epoch 54/100\n",
      "10/10 [==============================] - 0s 6ms/step - loss: 223802.7812 - mean_absolute_error: 415.7849 - mean_squared_error: 223802.7812 - val_loss: 147112.6250 - val_mean_absolute_error: 349.0494 - val_mean_squared_error: 147112.6250\n",
      "Epoch 55/100\n",
      "10/10 [==============================] - 0s 6ms/step - loss: 228607.4062 - mean_absolute_error: 409.7335 - mean_squared_error: 228607.4062 - val_loss: 144871.0625 - val_mean_absolute_error: 346.1882 - val_mean_squared_error: 144871.0625\n",
      "Epoch 56/100\n",
      "10/10 [==============================] - 0s 6ms/step - loss: 222442.7500 - mean_absolute_error: 407.6135 - mean_squared_error: 222442.7500 - val_loss: 143486.8906 - val_mean_absolute_error: 344.9242 - val_mean_squared_error: 143486.8906\n",
      "Epoch 57/100\n",
      "10/10 [==============================] - 0s 6ms/step - loss: 221092.2969 - mean_absolute_error: 402.9749 - mean_squared_error: 221092.2969 - val_loss: 140567.8438 - val_mean_absolute_error: 340.9377 - val_mean_squared_error: 140567.8438\n",
      "Epoch 58/100\n",
      "10/10 [==============================] - 0s 6ms/step - loss: 215306.0938 - mean_absolute_error: 404.1513 - mean_squared_error: 215306.0938 - val_loss: 135372.9844 - val_mean_absolute_error: 332.7444 - val_mean_squared_error: 135372.9844\n",
      "Epoch 59/100\n",
      "10/10 [==============================] - 0s 6ms/step - loss: 218358.0938 - mean_absolute_error: 393.5810 - mean_squared_error: 218358.0938 - val_loss: 132739.4531 - val_mean_absolute_error: 329.2527 - val_mean_squared_error: 132739.4531\n",
      "Epoch 60/100\n",
      "10/10 [==============================] - 0s 7ms/step - loss: 213445.9531 - mean_absolute_error: 386.5053 - mean_squared_error: 213445.9531 - val_loss: 131984.2031 - val_mean_absolute_error: 329.3302 - val_mean_squared_error: 131984.2031\n",
      "Epoch 61/100\n",
      "10/10 [==============================] - 0s 7ms/step - loss: 207486.6250 - mean_absolute_error: 384.6839 - mean_squared_error: 207486.6250 - val_loss: 134198.6250 - val_mean_absolute_error: 334.8376 - val_mean_squared_error: 134198.6250\n",
      "Epoch 62/100\n",
      "10/10 [==============================] - 0s 7ms/step - loss: 204951.8438 - mean_absolute_error: 377.6257 - mean_squared_error: 204951.8438 - val_loss: 132976.2969 - val_mean_absolute_error: 334.0796 - val_mean_squared_error: 132976.2969\n",
      "Epoch 63/100\n",
      "10/10 [==============================] - 0s 6ms/step - loss: 196428.4375 - mean_absolute_error: 382.4233 - mean_squared_error: 196428.4375 - val_loss: 129459.4688 - val_mean_absolute_error: 329.1560 - val_mean_squared_error: 129459.4688\n",
      "Epoch 64/100\n",
      "10/10 [==============================] - 0s 6ms/step - loss: 194008.4531 - mean_absolute_error: 375.8407 - mean_squared_error: 194008.4531 - val_loss: 125253.9375 - val_mean_absolute_error: 323.0022 - val_mean_squared_error: 125253.9375\n",
      "Epoch 65/100\n",
      "10/10 [==============================] - 0s 6ms/step - loss: 195716.7344 - mean_absolute_error: 369.2556 - mean_squared_error: 195716.7344 - val_loss: 122524.8125 - val_mean_absolute_error: 319.6128 - val_mean_squared_error: 122524.8125\n",
      "Epoch 66/100\n",
      "10/10 [==============================] - 0s 6ms/step - loss: 172747.0312 - mean_absolute_error: 374.2071 - mean_squared_error: 172747.0312 - val_loss: 103580.0938 - val_mean_absolute_error: 282.8059 - val_mean_squared_error: 103580.0938\n"
     ]
    },
    {
     "name": "stdout",
     "output_type": "stream",
     "text": [
      "Epoch 67/100\n",
      "10/10 [==============================] - 0s 6ms/step - loss: 188568.1094 - mean_absolute_error: 356.1577 - mean_squared_error: 188568.1094 - val_loss: 103162.2188 - val_mean_absolute_error: 284.3850 - val_mean_squared_error: 103162.2188\n",
      "Epoch 68/100\n",
      "10/10 [==============================] - 0s 6ms/step - loss: 170282.7188 - mean_absolute_error: 353.4160 - mean_squared_error: 170282.7188 - val_loss: 95974.5000 - val_mean_absolute_error: 270.6626 - val_mean_squared_error: 95974.5000\n",
      "Epoch 69/100\n",
      "10/10 [==============================] - 0s 5ms/step - loss: 175666.3438 - mean_absolute_error: 342.9764 - mean_squared_error: 175666.3438 - val_loss: 99602.9375 - val_mean_absolute_error: 281.7733 - val_mean_squared_error: 99602.9375\n",
      "Epoch 70/100\n",
      "10/10 [==============================] - 0s 6ms/step - loss: 163830.5156 - mean_absolute_error: 341.9205 - mean_squared_error: 163830.5156 - val_loss: 95034.8750 - val_mean_absolute_error: 274.4430 - val_mean_squared_error: 95034.8750\n",
      "Epoch 71/100\n",
      "10/10 [==============================] - 0s 6ms/step - loss: 161797.9219 - mean_absolute_error: 330.6381 - mean_squared_error: 161797.9219 - val_loss: 91014.7266 - val_mean_absolute_error: 268.4503 - val_mean_squared_error: 91014.7266\n",
      "Epoch 72/100\n",
      "10/10 [==============================] - 0s 6ms/step - loss: 159442.6250 - mean_absolute_error: 326.6682 - mean_squared_error: 159442.6250 - val_loss: 89307.5234 - val_mean_absolute_error: 267.7194 - val_mean_squared_error: 89307.5234\n",
      "Epoch 73/100\n",
      "10/10 [==============================] - 0s 6ms/step - loss: 146286.2812 - mean_absolute_error: 304.4030 - mean_squared_error: 146286.2812 - val_loss: 93258.2734 - val_mean_absolute_error: 279.3364 - val_mean_squared_error: 93258.2734\n",
      "Epoch 74/100\n",
      "10/10 [==============================] - 0s 6ms/step - loss: 133973.0156 - mean_absolute_error: 316.9853 - mean_squared_error: 133973.0156 - val_loss: 85805.3047 - val_mean_absolute_error: 266.1345 - val_mean_squared_error: 85805.3047\n",
      "Epoch 75/100\n",
      "10/10 [==============================] - 0s 6ms/step - loss: 117552.1484 - mean_absolute_error: 307.6435 - mean_squared_error: 117552.1484 - val_loss: 60427.0664 - val_mean_absolute_error: 204.4205 - val_mean_squared_error: 60427.0664\n",
      "Epoch 76/100\n",
      "10/10 [==============================] - 0s 6ms/step - loss: 119066.9609 - mean_absolute_error: 293.0032 - mean_squared_error: 119066.9609 - val_loss: 48656.6367 - val_mean_absolute_error: 172.3274 - val_mean_squared_error: 48656.6367\n",
      "Epoch 77/100\n",
      "10/10 [==============================] - 0s 6ms/step - loss: 114069.9609 - mean_absolute_error: 276.6750 - mean_squared_error: 114069.9609 - val_loss: 42048.2188 - val_mean_absolute_error: 159.2019 - val_mean_squared_error: 42048.2188\n",
      "Epoch 78/100\n",
      "10/10 [==============================] - 0s 6ms/step - loss: 118795.4375 - mean_absolute_error: 259.1469 - mean_squared_error: 118795.4375 - val_loss: 45292.3320 - val_mean_absolute_error: 175.3650 - val_mean_squared_error: 45292.3320\n",
      "Epoch 79/100\n",
      "10/10 [==============================] - 0s 6ms/step - loss: 95995.5625 - mean_absolute_error: 242.6457 - mean_squared_error: 95995.5625 - val_loss: 49655.3750 - val_mean_absolute_error: 197.0554 - val_mean_squared_error: 49655.3750\n",
      "Epoch 80/100\n",
      "10/10 [==============================] - 0s 6ms/step - loss: 78177.2344 - mean_absolute_error: 224.8763 - mean_squared_error: 78177.2344 - val_loss: 55328.9414 - val_mean_absolute_error: 218.6295 - val_mean_squared_error: 55328.9414\n",
      "Epoch 81/100\n",
      "10/10 [==============================] - 0s 5ms/step - loss: 65538.0391 - mean_absolute_error: 231.4937 - mean_squared_error: 65538.0391 - val_loss: 30155.0059 - val_mean_absolute_error: 145.0246 - val_mean_squared_error: 30155.0059\n",
      "Epoch 82/100\n",
      "10/10 [==============================] - 0s 7ms/step - loss: 59344.1641 - mean_absolute_error: 191.6299 - mean_squared_error: 59344.1641 - val_loss: 28003.6074 - val_mean_absolute_error: 147.4893 - val_mean_squared_error: 28003.6074\n",
      "Epoch 83/100\n",
      "10/10 [==============================] - 0s 6ms/step - loss: 44179.6484 - mean_absolute_error: 170.1533 - mean_squared_error: 44179.6484 - val_loss: 19428.4570 - val_mean_absolute_error: 121.5654 - val_mean_squared_error: 19428.4570\n",
      "Epoch 84/100\n",
      "10/10 [==============================] - 0s 6ms/step - loss: 28450.1211 - mean_absolute_error: 140.1370 - mean_squared_error: 28450.1211 - val_loss: 9288.9346 - val_mean_absolute_error: 75.4829 - val_mean_squared_error: 9288.9346\n",
      "Epoch 85/100\n",
      "10/10 [==============================] - 0s 6ms/step - loss: 14381.6426 - mean_absolute_error: 99.2915 - mean_squared_error: 14381.6426 - val_loss: 3063.7676 - val_mean_absolute_error: 46.2254 - val_mean_squared_error: 3063.7676\n",
      "Epoch 86/100\n",
      "10/10 [==============================] - 0s 6ms/step - loss: 6847.5054 - mean_absolute_error: 66.7255 - mean_squared_error: 6847.5054 - val_loss: 3013.0967 - val_mean_absolute_error: 48.5569 - val_mean_squared_error: 3013.0967\n",
      "Epoch 87/100\n",
      "10/10 [==============================] - 0s 6ms/step - loss: 5278.0586 - mean_absolute_error: 62.5050 - mean_squared_error: 5278.0586 - val_loss: 1685.2516 - val_mean_absolute_error: 30.2741 - val_mean_squared_error: 1685.2516\n",
      "Epoch 88/100\n",
      "10/10 [==============================] - 0s 5ms/step - loss: 7383.4546 - mean_absolute_error: 69.6845 - mean_squared_error: 7383.4546 - val_loss: 1241.2499 - val_mean_absolute_error: 29.4961 - val_mean_squared_error: 1241.2499\n",
      "Epoch 89/100\n",
      "10/10 [==============================] - 0s 6ms/step - loss: 2962.4993 - mean_absolute_error: 48.0560 - mean_squared_error: 2962.4993 - val_loss: 1349.4965 - val_mean_absolute_error: 25.3820 - val_mean_squared_error: 1349.4965\n",
      "Epoch 90/100\n",
      "10/10 [==============================] - 0s 6ms/step - loss: 7647.6562 - mean_absolute_error: 67.9376 - mean_squared_error: 7647.6562 - val_loss: 1663.8285 - val_mean_absolute_error: 34.1109 - val_mean_squared_error: 1663.8285\n",
      "Epoch 91/100\n",
      "10/10 [==============================] - 0s 5ms/step - loss: 8635.2129 - mean_absolute_error: 66.0626 - mean_squared_error: 8635.2129 - val_loss: 1765.9816 - val_mean_absolute_error: 37.8452 - val_mean_squared_error: 1765.9816\n",
      "Epoch 92/100\n",
      "10/10 [==============================] - 0s 5ms/step - loss: 3776.2551 - mean_absolute_error: 53.4974 - mean_squared_error: 3776.2551 - val_loss: 1078.3922 - val_mean_absolute_error: 30.4784 - val_mean_squared_error: 1078.3922\n",
      "Epoch 93/100\n",
      "10/10 [==============================] - 0s 6ms/step - loss: 3604.5000 - mean_absolute_error: 50.3794 - mean_squared_error: 3604.5000 - val_loss: 2098.2454 - val_mean_absolute_error: 40.0323 - val_mean_squared_error: 2098.2454\n",
      "Epoch 94/100\n",
      "10/10 [==============================] - 0s 6ms/step - loss: 4542.9854 - mean_absolute_error: 50.8752 - mean_squared_error: 4542.9854 - val_loss: 16678.6172 - val_mean_absolute_error: 117.1554 - val_mean_squared_error: 16678.6172\n",
      "Epoch 95/100\n",
      "10/10 [==============================] - 0s 6ms/step - loss: 4977.4731 - mean_absolute_error: 50.8425 - mean_squared_error: 4977.4731 - val_loss: 1313.0454 - val_mean_absolute_error: 31.4035 - val_mean_squared_error: 1313.0454\n",
      "Epoch 96/100\n",
      "10/10 [==============================] - 0s 6ms/step - loss: 4545.0068 - mean_absolute_error: 53.9681 - mean_squared_error: 4545.0068 - val_loss: 1700.2661 - val_mean_absolute_error: 37.6831 - val_mean_squared_error: 1700.2661\n",
      "Epoch 97/100\n",
      "10/10 [==============================] - 0s 6ms/step - loss: 7007.3774 - mean_absolute_error: 63.6327 - mean_squared_error: 7007.3774 - val_loss: 3198.3936 - val_mean_absolute_error: 46.2902 - val_mean_squared_error: 3198.3936\n",
      "Epoch 98/100\n",
      "10/10 [==============================] - 0s 6ms/step - loss: 6375.0332 - mean_absolute_error: 60.9598 - mean_squared_error: 6375.0332 - val_loss: 2324.4238 - val_mean_absolute_error: 41.0076 - val_mean_squared_error: 2324.4238\n",
      "Epoch 99/100\n",
      "10/10 [==============================] - 0s 6ms/step - loss: 5905.2393 - mean_absolute_error: 61.5960 - mean_squared_error: 5905.2393 - val_loss: 16607.6797 - val_mean_absolute_error: 116.2792 - val_mean_squared_error: 16607.6797\n",
      "Epoch 100/100\n"
     ]
    },
    {
     "name": "stdout",
     "output_type": "stream",
     "text": [
      " 1/10 [==>...........................] - ETA: 0s - loss: 3463.2349 - mean_absolute_error: 58.8408 - mean_squared_error: 3463.2349\b\b\b\b\b\b\b\b\b\b\b\b\b\b\b\b\b\b\b\b\b\b\b\b\b\b\b\b\b\b\b\b\b\b\b\b\b\b\b\b\b\b\b\b\b\b\b\b\b\b\b\b\b\b\b\b\b\b\b\b\b\b\b\b\b\b\b\b\b\b\b\b\b\b\b\b\b\b\b\b\b\b\b\b\b\b\b\b\b\b\b\b\b\b\b\b\b\b\b\b\b\b\b\b\b\b\b\b\b\b\b\b\b\b\b\b\b\b\b\b\b\b\b\b\b\b\b\b\b\r",
      "10/10 [==============================] - 0s 5ms/step - loss: 6527.5845 - mean_absolute_error: 61.5261 - mean_squared_error: 6527.5845 - val_loss: 4392.7598 - val_mean_absolute_error: 54.3771 - val_mean_squared_error: 4392.7598\n"
     ]
    }
   ],
   "source": [
    "# Entrenar el modelo con los datos de entrenamiento y validación\n",
    "history = model.fit(X_train, y_train, validation_data=(X_val, y_val), epochs=100, batch_size=2)"
   ]
  },
  {
   "cell_type": "code",
   "execution_count": 348,
   "id": "73556b0f",
   "metadata": {},
   "outputs": [
    {
     "name": "stdout",
     "output_type": "stream",
     "text": [
      "1/1 [==============================] - 0s 125ms/step\n",
      "[[690.18506]\n",
      " [690.18506]\n",
      " [456.72678]\n",
      " [643.64905]\n",
      " [690.18506]\n",
      " [690.18506]\n",
      " [690.18506]]\n",
      "[700 752 680 703 809 776 721]\n"
     ]
    }
   ],
   "source": [
    "y_pred = model.predict(X_test)\n",
    "print(y_pred)\n",
    "print(y_test)"
   ]
  },
  {
   "cell_type": "code",
   "execution_count": 349,
   "id": "9b58157b",
   "metadata": {},
   "outputs": [
    {
     "name": "stdout",
     "output_type": "stream",
     "text": [
      "11388.806165857108\n"
     ]
    }
   ],
   "source": [
    "# Evaluar el rendimiento del modelo en el conjunto de prueba\n",
    "from sklearn.metrics import mean_squared_error\n",
    "mse = mean_squared_error(y_test, y_pred)\n",
    "print(mse)"
   ]
  },
  {
   "cell_type": "code",
   "execution_count": 350,
   "id": "b96368ce",
   "metadata": {},
   "outputs": [
    {
     "data": {
      "text/plain": [
       "Text(0, 0.5, 'Ypred')"
      ]
     },
     "execution_count": 350,
     "metadata": {},
     "output_type": "execute_result"
    },
    {
     "data": {
      "image/png": "[encoded data removed]",
      "text/plain": [
       "<Figure size 640x480 with 1 Axes>"
      ]
     },
     "metadata": {},
     "output_type": "display_data"
    }
   ],
   "source": [
    "import matplotlib.pyplot as plt\n",
    "plt.scatter(y_test,y_pred)\n",
    "plt.xlabel(\"Ytest\")\n",
    "plt.ylabel(\"Ypred\")"
   ]
  },
  {
   "cell_type": "code",
   "execution_count": 351,
   "id": "c5d13529",
   "metadata": {},
   "outputs": [
    {
     "data": {
      "image/png": "[encoded data removed]",
      "text/plain": [
       "<Figure size 640x480 with 1 Axes>"
      ]
     },
     "metadata": {},
     "output_type": "display_data"
    }
   ],
   "source": [
    "def plot_loss(history):\n",
    "  plt.plot(history.history['loss'], label='loss')\n",
    "  plt.plot(history.history['val_loss'], label='val_loss')\n",
    "  plt.ylim([0, 100000])\n",
    "  plt.xlabel('Epoch')\n",
    "  plt.ylabel('Error')\n",
    "  plt.legend()\n",
    "  plt.grid(True)\n",
    "  \n",
    "plot_loss(history)"
   ]
  },
  {
   "cell_type": "code",
   "execution_count": 352,
   "id": "b67225d1",
   "metadata": {},
   "outputs": [
    {
     "data": {
      "text/plain": [
       "<matplotlib.legend.Legend at 0x2cc87b17040>"
      ]
     },
     "execution_count": 352,
     "metadata": {},
     "output_type": "execute_result"
    },
    {
     "data": {
      "image/png": "[encoded data removed]",
      "text/plain": [
       "<Figure size 640x480 with 1 Axes>"
      ]
     },
     "metadata": {},
     "output_type": "display_data"
    }
   ],
   "source": [
    "plt.scatter(X_train,y_train, label = \"Training data\")\n",
    "plt.scatter(X_test,y_test, label = \"Testing data\")\n",
    "plt.scatter(X_test, y_pred, label = \"Prediction\")\n",
    "plt.ylabel(\"LSRP\")\n",
    "plt.xlabel(\"V_NaBH4\")\n",
    "plt.legend()"
   ]
  },
  {
   "cell_type": "code",
   "execution_count": null,
   "id": "6099fc04",
   "metadata": {},
   "outputs": [],
   "source": []
  }
 ],
 "metadata": {
  "kernelspec": {
   "display_name": "Python 3 (ipykernel)",
   "language": "python",
   "name": "python3"
  },
  "language_info": {
   "codemirror_mode": {
    "name": "ipython",
    "version": 3
   },
   "file_extension": ".py",
   "mimetype": "text/x-python",
   "name": "python",
   "nbconvert_exporter": "python",
   "pygments_lexer": "ipython3",
   "version": "3.10.10"
  }
 },
 "nbformat": 4,
 "nbformat_minor": 5
}
